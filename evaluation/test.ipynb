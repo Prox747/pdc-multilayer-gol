{
 "cells": [
  {
   "cell_type": "code",
   "execution_count": null,
   "metadata": {},
   "outputs": [
    {
     "ename": "",
     "evalue": "",
     "output_type": "error",
     "traceback": [
      "\u001b[1;31mRunning cells with 'Python 3.12.4' requires the ipykernel package.\n",
      "\u001b[1;31mRun the following command to install 'ipykernel' into the Python environment. \n",
      "\u001b[1;31mCommand: '/bin/python3.12 -m pip install ipykernel -U --user --force-reinstall'"
     ]
    }
   ],
   "source": [
    "import evaluation\n",
    "\n",
    "executable = evaluation.ROOT_DIR + \"/openmp/bin/multilayer-game-of-life\"\n",
    "\n",
    "num_threads = 4\n",
    "grid_size = 128\n",
    "num_layers = 3\n",
    "num_steps = 64\n",
    "\n",
    "params = [str(grid_size), str(num_layers), str(num_steps)]\n",
    "environment = {\"OMP_NUM_THREADS\": str(num_threads)}\n",
    "\n",
    "evaluation.mean_execution_time(executable, params, environment, repetitions=5, cwd=evaluation.ROOT_DIR + \"/openmp\")"
   ]
  },
  {
   "cell_type": "code",
   "execution_count": null,
   "metadata": {},
   "outputs": [],
   "source": []
  }
 ],
 "metadata": {
  "kernelspec": {
   "display_name": "Python 3",
   "language": "python",
   "name": "python3"
  },
  "language_info": {
   "codemirror_mode": {
    "name": "ipython",
    "version": 3
   },
   "file_extension": ".py",
   "mimetype": "text/x-python",
   "name": "python",
   "nbconvert_exporter": "python",
   "pygments_lexer": "ipython3",
   "version": "3.12.4"
  }
 },
 "nbformat": 4,
 "nbformat_minor": 2
}
