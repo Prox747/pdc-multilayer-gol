{
 "cells": [
  {
   "cell_type": "code",
   "execution_count": null,
   "metadata": {},
   "outputs": [],
   "source": [
    "import evaluation\n",
    "\n",
    "executable = evaluation.ROOT_DIR + \"/openmp/bin/multilayer-game-of-life\"\n",
    "\n",
    "grid_size = 4096\n",
    "num_layers = 5\n",
    "num_steps = 64\n",
    "\n",
    "# 1 or 0 (true/false)\n",
    "create_png = 0\n",
    "\n",
    "params = [str(grid_size), str(num_layers), str(num_steps), str(create_png)]\n",
    "\n",
    "threads2exec_time = {}\n",
    "\n",
    "min_parallel_threads = 2\n",
    "max_parallel_threads = 16\n",
    "step_parallel_threads = 2\n",
    "num_threads_list = [1] + list(range(min_parallel_threads, max_parallel_threads + 1, step_parallel_threads))\n",
    "\n",
    "for num_threads in num_threads_list:\n",
    "    print(f\"Evaluating with {num_threads} threads\")\n",
    "    environment = {\"OMP_NUM_THREADS\": str(num_threads)}\n",
    "    threads2exec_time[num_threads] = evaluation.mean_execution_time(executable, params, environment, repetitions=5, cwd=evaluation.ROOT_DIR + \"/openmp\")"
   ]
  },
  {
   "cell_type": "code",
   "execution_count": null,
   "metadata": {},
   "outputs": [],
   "source": [
    "import matplotlib.pyplot as plt\n",
    "\n",
    "x = list(threads2exec_time.keys())\n",
    "y = list(threads2exec_time.values())\n",
    "\n",
    "# Creating the plot\n",
    "plt.plot(x, y, marker='o')\n",
    "\n",
    "# Adding title and labels\n",
    "plt.title('Execution time - OpenMP')\n",
    "plt.xlabel('Number of threads')\n",
    "plt.ylabel('Seconds')\n",
    "plt.ylim(0, max(y)+5)\n",
    "\n",
    "# Displaying the plot\n",
    "plt.show()\n",
    "\n",
    "print(\"Lowest mean execution time: {min_time:.3f} obtained with {threads} number of threads.\"\n",
    "      .format(min_time = min(y), threads = min(threads2exec_time, key = threads2exec_time.get)))\n"
   ]
  },
  {
   "cell_type": "code",
   "execution_count": null,
   "metadata": {},
   "outputs": [],
   "source": [
    "x = list(threads2exec_time.keys())\n",
    "y = [threads2exec_time[1]/value for value in threads2exec_time.values()]\n",
    "\n",
    "# Creating the plot\n",
    "plt.plot(x, y, marker='o')\n",
    "\n",
    "# Adding title and labels\n",
    "plt.title('Speedup - OpenMP')\n",
    "plt.xlabel('Number of threads')\n",
    "plt.ylabel('Speedup')\n",
    "plt.ylim(0, max(y)+0.5)\n",
    "\n",
    "# Displaying the plot\n",
    "plt.show()\n",
    "\n",
    "print(f\"Max speedup: {max(y):.3f}\")"
   ]
  },
  {
   "cell_type": "code",
   "execution_count": null,
   "metadata": {},
   "outputs": [],
   "source": [
    "x = list(threads2exec_time.keys())\n",
    "y = [threads2exec_time[1]/(p*value) for p, value in threads2exec_time.items()]\n",
    "\n",
    "# Creating the plot\n",
    "plt.plot(x, y, marker='o')\n",
    "\n",
    "# Adding title and labels\n",
    "plt.title('Strong Scaling Efficiency - OpenMP')\n",
    "plt.xlabel('Number of threads')\n",
    "plt.ylabel('Strong Scaling')\n",
    "plt.ylim(0, max(y)+0.1)\n",
    "\n",
    "# Displaying the plot\n",
    "plt.show()"
   ]
  }
 ],
 "metadata": {
  "kernelspec": {
   "display_name": "Python 3",
   "language": "python",
   "name": "python3"
  },
  "language_info": {
   "codemirror_mode": {
    "name": "ipython",
    "version": 3
   },
   "file_extension": ".py",
   "mimetype": "text/x-python",
   "name": "python",
   "nbconvert_exporter": "python",
   "pygments_lexer": "ipython3",
   "version": "3.12.4"
  }
 },
 "nbformat": 4,
 "nbformat_minor": 2
}
